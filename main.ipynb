{
 "cells": [
  {
   "cell_type": "code",
   "execution_count": 1,
   "outputs": [
    {
     "name": "stdout",
     "output_type": "stream",
     "text": [
      "Requirement already satisfied: openpyxl in /home/ravshanjon/miniconda3/lib/python3.10/site-packages (3.1.2)\r\n",
      "Requirement already satisfied: et-xmlfile in /home/ravshanjon/miniconda3/lib/python3.10/site-packages (from openpyxl) (1.1.0)\r\n"
     ]
    }
   ],
   "source": [
    "!pip install openpyxl"
   ],
   "metadata": {
    "collapsed": false
   }
  },
  {
   "cell_type": "code",
   "execution_count": 2,
   "metadata": {
    "collapsed": true
   },
   "outputs": [],
   "source": [
    "import pandas as pd\n",
    "import numpy as np"
   ]
  },
  {
   "cell_type": "code",
   "execution_count": 3,
   "outputs": [
    {
     "data": {
      "text/plain": "(40, 7)"
     },
     "execution_count": 3,
     "metadata": {},
     "output_type": "execute_result"
    }
   ],
   "source": [
    "df = pd.read_excel('patient.xlsx')\n",
    "df.shape"
   ],
   "metadata": {
    "collapsed": false
   }
  },
  {
   "cell_type": "code",
   "execution_count": 4,
   "outputs": [],
   "source": [
    "x = df.iloc[:, :6]\n",
    "y = df.iloc[:, 6]"
   ],
   "metadata": {
    "collapsed": false
   }
  },
  {
   "cell_type": "code",
   "execution_count": 5,
   "outputs": [
    {
     "data": {
      "text/plain": "    x1  x2   x3  x4  x5  x6\n0    1    1   1   1   1   1\n1    1    1   1   1   1   2\n2    1    1   3   1   1   2\n3    1    1   1   1   1   4\n4    1    1   1   1   1   3\n5    1    1   1   1   1   9\n6    0    1   1   1   1   2\n7    1    0   1   1   1   2\n8    1    1   1   1   1   7\n9    1    1   1   1   1  10\n10   1    1   1   2   1   2\n11   0    1   1   2   1   2\n12   1    1   1   2   2   2\n13   1    1   2   2   1   2\n14   1    1   1   2   1   1\n15   1    1   2   1   1   1\n16   1    1   2   2   1   1\n17   1    1   2   1   1   2\n18   1    1   2   2   2   2\n19   1    1   1   2   1   2\n20   0    1   1   2   1   2\n21   1    1   1   2   2   2\n22   1    1   2   2   1   2\n23   1    1   1   2   1   1\n24   1    1   2   1   1   1\n25   1    1   2   2   1   1\n26   1    1   2   1   1   1\n27   1    1   2   2   1   1\n28   1    1   2   1   1   1\n29   1    1   2   2   1   1\n30   1    1   2   1   1   1\n31   1    1   2   2   1   1\n32   1    1   2   1   1   2\n33   1    1   2   2   2   2\n34   1    1   2   1   1   2\n35   1    1   2   2   2   2\n36   1    1   2   1   1   2\n37   1    1   2   2   2   2\n38   1    1   2   1   1   2\n39   1    1   2   2   2   2",
      "text/html": "<div>\n<style scoped>\n    .dataframe tbody tr th:only-of-type {\n        vertical-align: middle;\n    }\n\n    .dataframe tbody tr th {\n        vertical-align: top;\n    }\n\n    .dataframe thead th {\n        text-align: right;\n    }\n</style>\n<table border=\"1\" class=\"dataframe\">\n  <thead>\n    <tr style=\"text-align: right;\">\n      <th></th>\n      <th>x1</th>\n      <th>x2</th>\n      <th>x3</th>\n      <th>x4</th>\n      <th>x5</th>\n      <th>x6</th>\n    </tr>\n  </thead>\n  <tbody>\n    <tr>\n      <th>0</th>\n      <td>1</td>\n      <td>1</td>\n      <td>1</td>\n      <td>1</td>\n      <td>1</td>\n      <td>1</td>\n    </tr>\n    <tr>\n      <th>1</th>\n      <td>1</td>\n      <td>1</td>\n      <td>1</td>\n      <td>1</td>\n      <td>1</td>\n      <td>2</td>\n    </tr>\n    <tr>\n      <th>2</th>\n      <td>1</td>\n      <td>1</td>\n      <td>3</td>\n      <td>1</td>\n      <td>1</td>\n      <td>2</td>\n    </tr>\n    <tr>\n      <th>3</th>\n      <td>1</td>\n      <td>1</td>\n      <td>1</td>\n      <td>1</td>\n      <td>1</td>\n      <td>4</td>\n    </tr>\n    <tr>\n      <th>4</th>\n      <td>1</td>\n      <td>1</td>\n      <td>1</td>\n      <td>1</td>\n      <td>1</td>\n      <td>3</td>\n    </tr>\n    <tr>\n      <th>5</th>\n      <td>1</td>\n      <td>1</td>\n      <td>1</td>\n      <td>1</td>\n      <td>1</td>\n      <td>9</td>\n    </tr>\n    <tr>\n      <th>6</th>\n      <td>0</td>\n      <td>1</td>\n      <td>1</td>\n      <td>1</td>\n      <td>1</td>\n      <td>2</td>\n    </tr>\n    <tr>\n      <th>7</th>\n      <td>1</td>\n      <td>0</td>\n      <td>1</td>\n      <td>1</td>\n      <td>1</td>\n      <td>2</td>\n    </tr>\n    <tr>\n      <th>8</th>\n      <td>1</td>\n      <td>1</td>\n      <td>1</td>\n      <td>1</td>\n      <td>1</td>\n      <td>7</td>\n    </tr>\n    <tr>\n      <th>9</th>\n      <td>1</td>\n      <td>1</td>\n      <td>1</td>\n      <td>1</td>\n      <td>1</td>\n      <td>10</td>\n    </tr>\n    <tr>\n      <th>10</th>\n      <td>1</td>\n      <td>1</td>\n      <td>1</td>\n      <td>2</td>\n      <td>1</td>\n      <td>2</td>\n    </tr>\n    <tr>\n      <th>11</th>\n      <td>0</td>\n      <td>1</td>\n      <td>1</td>\n      <td>2</td>\n      <td>1</td>\n      <td>2</td>\n    </tr>\n    <tr>\n      <th>12</th>\n      <td>1</td>\n      <td>1</td>\n      <td>1</td>\n      <td>2</td>\n      <td>2</td>\n      <td>2</td>\n    </tr>\n    <tr>\n      <th>13</th>\n      <td>1</td>\n      <td>1</td>\n      <td>2</td>\n      <td>2</td>\n      <td>1</td>\n      <td>2</td>\n    </tr>\n    <tr>\n      <th>14</th>\n      <td>1</td>\n      <td>1</td>\n      <td>1</td>\n      <td>2</td>\n      <td>1</td>\n      <td>1</td>\n    </tr>\n    <tr>\n      <th>15</th>\n      <td>1</td>\n      <td>1</td>\n      <td>2</td>\n      <td>1</td>\n      <td>1</td>\n      <td>1</td>\n    </tr>\n    <tr>\n      <th>16</th>\n      <td>1</td>\n      <td>1</td>\n      <td>2</td>\n      <td>2</td>\n      <td>1</td>\n      <td>1</td>\n    </tr>\n    <tr>\n      <th>17</th>\n      <td>1</td>\n      <td>1</td>\n      <td>2</td>\n      <td>1</td>\n      <td>1</td>\n      <td>2</td>\n    </tr>\n    <tr>\n      <th>18</th>\n      <td>1</td>\n      <td>1</td>\n      <td>2</td>\n      <td>2</td>\n      <td>2</td>\n      <td>2</td>\n    </tr>\n    <tr>\n      <th>19</th>\n      <td>1</td>\n      <td>1</td>\n      <td>1</td>\n      <td>2</td>\n      <td>1</td>\n      <td>2</td>\n    </tr>\n    <tr>\n      <th>20</th>\n      <td>0</td>\n      <td>1</td>\n      <td>1</td>\n      <td>2</td>\n      <td>1</td>\n      <td>2</td>\n    </tr>\n    <tr>\n      <th>21</th>\n      <td>1</td>\n      <td>1</td>\n      <td>1</td>\n      <td>2</td>\n      <td>2</td>\n      <td>2</td>\n    </tr>\n    <tr>\n      <th>22</th>\n      <td>1</td>\n      <td>1</td>\n      <td>2</td>\n      <td>2</td>\n      <td>1</td>\n      <td>2</td>\n    </tr>\n    <tr>\n      <th>23</th>\n      <td>1</td>\n      <td>1</td>\n      <td>1</td>\n      <td>2</td>\n      <td>1</td>\n      <td>1</td>\n    </tr>\n    <tr>\n      <th>24</th>\n      <td>1</td>\n      <td>1</td>\n      <td>2</td>\n      <td>1</td>\n      <td>1</td>\n      <td>1</td>\n    </tr>\n    <tr>\n      <th>25</th>\n      <td>1</td>\n      <td>1</td>\n      <td>2</td>\n      <td>2</td>\n      <td>1</td>\n      <td>1</td>\n    </tr>\n    <tr>\n      <th>26</th>\n      <td>1</td>\n      <td>1</td>\n      <td>2</td>\n      <td>1</td>\n      <td>1</td>\n      <td>1</td>\n    </tr>\n    <tr>\n      <th>27</th>\n      <td>1</td>\n      <td>1</td>\n      <td>2</td>\n      <td>2</td>\n      <td>1</td>\n      <td>1</td>\n    </tr>\n    <tr>\n      <th>28</th>\n      <td>1</td>\n      <td>1</td>\n      <td>2</td>\n      <td>1</td>\n      <td>1</td>\n      <td>1</td>\n    </tr>\n    <tr>\n      <th>29</th>\n      <td>1</td>\n      <td>1</td>\n      <td>2</td>\n      <td>2</td>\n      <td>1</td>\n      <td>1</td>\n    </tr>\n    <tr>\n      <th>30</th>\n      <td>1</td>\n      <td>1</td>\n      <td>2</td>\n      <td>1</td>\n      <td>1</td>\n      <td>1</td>\n    </tr>\n    <tr>\n      <th>31</th>\n      <td>1</td>\n      <td>1</td>\n      <td>2</td>\n      <td>2</td>\n      <td>1</td>\n      <td>1</td>\n    </tr>\n    <tr>\n      <th>32</th>\n      <td>1</td>\n      <td>1</td>\n      <td>2</td>\n      <td>1</td>\n      <td>1</td>\n      <td>2</td>\n    </tr>\n    <tr>\n      <th>33</th>\n      <td>1</td>\n      <td>1</td>\n      <td>2</td>\n      <td>2</td>\n      <td>2</td>\n      <td>2</td>\n    </tr>\n    <tr>\n      <th>34</th>\n      <td>1</td>\n      <td>1</td>\n      <td>2</td>\n      <td>1</td>\n      <td>1</td>\n      <td>2</td>\n    </tr>\n    <tr>\n      <th>35</th>\n      <td>1</td>\n      <td>1</td>\n      <td>2</td>\n      <td>2</td>\n      <td>2</td>\n      <td>2</td>\n    </tr>\n    <tr>\n      <th>36</th>\n      <td>1</td>\n      <td>1</td>\n      <td>2</td>\n      <td>1</td>\n      <td>1</td>\n      <td>2</td>\n    </tr>\n    <tr>\n      <th>37</th>\n      <td>1</td>\n      <td>1</td>\n      <td>2</td>\n      <td>2</td>\n      <td>2</td>\n      <td>2</td>\n    </tr>\n    <tr>\n      <th>38</th>\n      <td>1</td>\n      <td>1</td>\n      <td>2</td>\n      <td>1</td>\n      <td>1</td>\n      <td>2</td>\n    </tr>\n    <tr>\n      <th>39</th>\n      <td>1</td>\n      <td>1</td>\n      <td>2</td>\n      <td>2</td>\n      <td>2</td>\n      <td>2</td>\n    </tr>\n  </tbody>\n</table>\n</div>"
     },
     "execution_count": 5,
     "metadata": {},
     "output_type": "execute_result"
    }
   ],
   "source": [
    "x"
   ],
   "metadata": {
    "collapsed": false
   }
  },
  {
   "cell_type": "code",
   "execution_count": 6,
   "outputs": [
    {
     "data": {
      "text/plain": "15    2\n23    1\n25    2\n16    2\n39    3\nName: y, dtype: int64"
     },
     "execution_count": 6,
     "metadata": {},
     "output_type": "execute_result"
    }
   ],
   "source": [
    "y.sample(5)"
   ],
   "metadata": {
    "collapsed": false
   }
  },
  {
   "cell_type": "code",
   "execution_count": 7,
   "outputs": [],
   "source": [
    "from sklearn.model_selection import train_test_split\n",
    "\n",
    "X_train, X_test, y_train, y_test = train_test_split(x, y, test_size=0.2, random_state=0)"
   ],
   "metadata": {
    "collapsed": false
   }
  },
  {
   "cell_type": "code",
   "execution_count": 8,
   "outputs": [
    {
     "data": {
      "text/plain": "22    1\n20    1\n25    2\n4     0\n10    1\n15    2\n28    2\n11    1\nName: y, dtype: int64"
     },
     "execution_count": 8,
     "metadata": {},
     "output_type": "execute_result"
    }
   ],
   "source": [
    "X_test\n",
    "y_test"
   ],
   "metadata": {
    "collapsed": false
   }
  },
  {
   "cell_type": "code",
   "execution_count": 9,
   "outputs": [
    {
     "data": {
      "text/plain": "(32,)"
     },
     "execution_count": 9,
     "metadata": {},
     "output_type": "execute_result"
    }
   ],
   "source": [
    "y_train.shape"
   ],
   "metadata": {
    "collapsed": false
   }
  },
  {
   "cell_type": "code",
   "execution_count": 10,
   "outputs": [
    {
     "name": "stderr",
     "output_type": "stream",
     "text": [
      "2023-06-08 12:25:50.785703: I tensorflow/tsl/cuda/cudart_stub.cc:28] Could not find cuda drivers on your machine, GPU will not be used.\n",
      "2023-06-08 12:25:51.354302: I tensorflow/tsl/cuda/cudart_stub.cc:28] Could not find cuda drivers on your machine, GPU will not be used.\n",
      "2023-06-08 12:25:51.357873: I tensorflow/core/platform/cpu_feature_guard.cc:182] This TensorFlow binary is optimized to use available CPU instructions in performance-critical operations.\n",
      "To enable the following instructions: AVX2 FMA, in other operations, rebuild TensorFlow with the appropriate compiler flags.\n",
      "2023-06-08 12:25:53.552248: W tensorflow/compiler/tf2tensorrt/utils/py_utils.cc:38] TF-TRT Warning: Could not find TensorRT\n"
     ]
    },
    {
     "name": "stdout",
     "output_type": "stream",
     "text": [
      "Epoch 1/80\n",
      "1/1 [==============================] - 1s 768ms/step - loss: 1.6921 - accuracy: 0.1875\n",
      "Epoch 2/80\n",
      "1/1 [==============================] - 0s 5ms/step - loss: 1.6186 - accuracy: 0.1875\n",
      "Epoch 3/80\n",
      "1/1 [==============================] - 0s 7ms/step - loss: 1.5539 - accuracy: 0.1250\n",
      "Epoch 4/80\n",
      "1/1 [==============================] - 0s 13ms/step - loss: 1.4966 - accuracy: 0.1250\n",
      "Epoch 5/80\n",
      "1/1 [==============================] - 0s 6ms/step - loss: 1.4458 - accuracy: 0.2188\n",
      "Epoch 6/80\n",
      "1/1 [==============================] - 0s 10ms/step - loss: 1.4009 - accuracy: 0.1562\n",
      "Epoch 7/80\n",
      "1/1 [==============================] - 0s 7ms/step - loss: 1.3624 - accuracy: 0.3750\n",
      "Epoch 8/80\n",
      "1/1 [==============================] - 0s 6ms/step - loss: 1.3292 - accuracy: 0.4062\n",
      "Epoch 9/80\n",
      "1/1 [==============================] - 0s 6ms/step - loss: 1.3004 - accuracy: 0.4375\n",
      "Epoch 10/80\n",
      "1/1 [==============================] - 0s 7ms/step - loss: 1.2746 - accuracy: 0.4688\n",
      "Epoch 11/80\n",
      "1/1 [==============================] - 0s 5ms/step - loss: 1.2510 - accuracy: 0.4688\n",
      "Epoch 12/80\n",
      "1/1 [==============================] - 0s 5ms/step - loss: 1.2314 - accuracy: 0.4688\n",
      "Epoch 13/80\n",
      "1/1 [==============================] - 0s 6ms/step - loss: 1.2140 - accuracy: 0.4688\n",
      "Epoch 14/80\n",
      "1/1 [==============================] - 0s 7ms/step - loss: 1.1984 - accuracy: 0.4688\n",
      "Epoch 15/80\n",
      "1/1 [==============================] - 0s 6ms/step - loss: 1.1837 - accuracy: 0.4688\n",
      "Epoch 16/80\n",
      "1/1 [==============================] - 0s 6ms/step - loss: 1.1695 - accuracy: 0.4688\n",
      "Epoch 17/80\n",
      "1/1 [==============================] - 0s 10ms/step - loss: 1.1565 - accuracy: 0.4688\n",
      "Epoch 18/80\n",
      "1/1 [==============================] - 0s 6ms/step - loss: 1.1441 - accuracy: 0.4688\n",
      "Epoch 19/80\n",
      "1/1 [==============================] - 0s 8ms/step - loss: 1.1321 - accuracy: 0.4688\n",
      "Epoch 20/80\n",
      "1/1 [==============================] - 0s 6ms/step - loss: 1.1201 - accuracy: 0.4688\n",
      "Epoch 21/80\n",
      "1/1 [==============================] - 0s 8ms/step - loss: 1.1083 - accuracy: 0.4688\n",
      "Epoch 22/80\n",
      "1/1 [==============================] - 0s 6ms/step - loss: 1.0974 - accuracy: 0.4688\n",
      "Epoch 23/80\n",
      "1/1 [==============================] - 0s 8ms/step - loss: 1.0869 - accuracy: 0.4688\n",
      "Epoch 24/80\n",
      "1/1 [==============================] - 0s 7ms/step - loss: 1.0767 - accuracy: 0.4688\n",
      "Epoch 25/80\n",
      "1/1 [==============================] - 0s 6ms/step - loss: 1.0667 - accuracy: 0.4688\n",
      "Epoch 26/80\n",
      "1/1 [==============================] - 0s 7ms/step - loss: 1.0570 - accuracy: 0.4688\n",
      "Epoch 27/80\n",
      "1/1 [==============================] - 0s 6ms/step - loss: 1.0474 - accuracy: 0.4688\n",
      "Epoch 28/80\n",
      "1/1 [==============================] - 0s 6ms/step - loss: 1.0380 - accuracy: 0.4688\n",
      "Epoch 29/80\n",
      "1/1 [==============================] - 0s 8ms/step - loss: 1.0288 - accuracy: 0.4688\n",
      "Epoch 30/80\n",
      "1/1 [==============================] - 0s 5ms/step - loss: 1.0196 - accuracy: 0.4688\n",
      "Epoch 31/80\n",
      "1/1 [==============================] - 0s 6ms/step - loss: 1.0104 - accuracy: 0.4688\n",
      "Epoch 32/80\n",
      "1/1 [==============================] - 0s 6ms/step - loss: 1.0011 - accuracy: 0.4688\n",
      "Epoch 33/80\n",
      "1/1 [==============================] - 0s 8ms/step - loss: 0.9918 - accuracy: 0.5938\n",
      "Epoch 34/80\n",
      "1/1 [==============================] - 0s 6ms/step - loss: 0.9825 - accuracy: 0.5938\n",
      "Epoch 35/80\n",
      "1/1 [==============================] - 0s 5ms/step - loss: 0.9732 - accuracy: 0.5938\n",
      "Epoch 36/80\n",
      "1/1 [==============================] - 0s 6ms/step - loss: 0.9639 - accuracy: 0.6875\n",
      "Epoch 37/80\n",
      "1/1 [==============================] - 0s 6ms/step - loss: 0.9546 - accuracy: 0.7188\n",
      "Epoch 38/80\n",
      "1/1 [==============================] - 0s 6ms/step - loss: 0.9451 - accuracy: 0.7188\n",
      "Epoch 39/80\n",
      "1/1 [==============================] - 0s 6ms/step - loss: 0.9357 - accuracy: 0.7500\n",
      "Epoch 40/80\n",
      "1/1 [==============================] - 0s 6ms/step - loss: 0.9263 - accuracy: 0.8125\n",
      "Epoch 41/80\n",
      "1/1 [==============================] - 0s 5ms/step - loss: 0.9168 - accuracy: 0.8125\n",
      "Epoch 42/80\n",
      "1/1 [==============================] - 0s 6ms/step - loss: 0.9072 - accuracy: 0.8125\n",
      "Epoch 43/80\n",
      "1/1 [==============================] - 0s 5ms/step - loss: 0.8975 - accuracy: 0.8125\n",
      "Epoch 44/80\n",
      "1/1 [==============================] - 0s 5ms/step - loss: 0.8879 - accuracy: 0.8125\n",
      "Epoch 45/80\n",
      "1/1 [==============================] - 0s 5ms/step - loss: 0.8784 - accuracy: 0.9062\n",
      "Epoch 46/80\n",
      "1/1 [==============================] - 0s 5ms/step - loss: 0.8689 - accuracy: 0.9062\n",
      "Epoch 47/80\n",
      "1/1 [==============================] - 0s 6ms/step - loss: 0.8595 - accuracy: 0.9062\n",
      "Epoch 48/80\n",
      "1/1 [==============================] - 0s 5ms/step - loss: 0.8503 - accuracy: 0.9062\n",
      "Epoch 49/80\n",
      "1/1 [==============================] - 0s 6ms/step - loss: 0.8412 - accuracy: 0.9062\n",
      "Epoch 50/80\n",
      "1/1 [==============================] - 0s 6ms/step - loss: 0.8320 - accuracy: 0.9062\n",
      "Epoch 51/80\n",
      "1/1 [==============================] - 0s 7ms/step - loss: 0.8229 - accuracy: 0.9062\n",
      "Epoch 52/80\n",
      "1/1 [==============================] - 0s 7ms/step - loss: 0.8140 - accuracy: 0.9062\n",
      "Epoch 53/80\n",
      "1/1 [==============================] - 0s 6ms/step - loss: 0.8050 - accuracy: 0.9062\n",
      "Epoch 54/80\n",
      "1/1 [==============================] - 0s 6ms/step - loss: 0.7960 - accuracy: 0.9062\n",
      "Epoch 55/80\n",
      "1/1 [==============================] - 0s 5ms/step - loss: 0.7869 - accuracy: 0.9062\n",
      "Epoch 56/80\n",
      "1/1 [==============================] - 0s 8ms/step - loss: 0.7780 - accuracy: 0.9062\n",
      "Epoch 57/80\n",
      "1/1 [==============================] - 0s 6ms/step - loss: 0.7689 - accuracy: 0.9062\n",
      "Epoch 58/80\n",
      "1/1 [==============================] - 0s 7ms/step - loss: 0.7598 - accuracy: 0.9062\n",
      "Epoch 59/80\n",
      "1/1 [==============================] - 0s 5ms/step - loss: 0.7506 - accuracy: 0.9062\n",
      "Epoch 60/80\n",
      "1/1 [==============================] - 0s 5ms/step - loss: 0.7415 - accuracy: 0.9062\n",
      "Epoch 61/80\n",
      "1/1 [==============================] - 0s 6ms/step - loss: 0.7325 - accuracy: 0.9062\n",
      "Epoch 62/80\n",
      "1/1 [==============================] - 0s 9ms/step - loss: 0.7235 - accuracy: 0.9062\n",
      "Epoch 63/80\n",
      "1/1 [==============================] - 0s 7ms/step - loss: 0.7147 - accuracy: 0.9062\n",
      "Epoch 64/80\n",
      "1/1 [==============================] - 0s 6ms/step - loss: 0.7060 - accuracy: 0.9062\n",
      "Epoch 65/80\n",
      "1/1 [==============================] - 0s 7ms/step - loss: 0.6973 - accuracy: 0.9062\n",
      "Epoch 66/80\n",
      "1/1 [==============================] - 0s 5ms/step - loss: 0.6885 - accuracy: 0.9062\n",
      "Epoch 67/80\n",
      "1/1 [==============================] - 0s 5ms/step - loss: 0.6797 - accuracy: 0.9062\n",
      "Epoch 68/80\n",
      "1/1 [==============================] - 0s 5ms/step - loss: 0.6712 - accuracy: 0.9062\n",
      "Epoch 69/80\n",
      "1/1 [==============================] - 0s 5ms/step - loss: 0.6627 - accuracy: 0.9062\n",
      "Epoch 70/80\n",
      "1/1 [==============================] - 0s 5ms/step - loss: 0.6542 - accuracy: 0.9062\n",
      "Epoch 71/80\n",
      "1/1 [==============================] - 0s 6ms/step - loss: 0.6456 - accuracy: 0.9062\n",
      "Epoch 72/80\n",
      "1/1 [==============================] - 0s 6ms/step - loss: 0.6368 - accuracy: 0.9062\n",
      "Epoch 73/80\n",
      "1/1 [==============================] - 0s 5ms/step - loss: 0.6282 - accuracy: 0.9062\n",
      "Epoch 74/80\n",
      "1/1 [==============================] - 0s 6ms/step - loss: 0.6199 - accuracy: 0.9062\n",
      "Epoch 75/80\n",
      "1/1 [==============================] - 0s 6ms/step - loss: 0.6114 - accuracy: 0.9062\n",
      "Epoch 76/80\n",
      "1/1 [==============================] - 0s 7ms/step - loss: 0.6030 - accuracy: 0.9062\n",
      "Epoch 77/80\n",
      "1/1 [==============================] - 0s 6ms/step - loss: 0.5946 - accuracy: 0.9062\n",
      "Epoch 78/80\n",
      "1/1 [==============================] - 0s 6ms/step - loss: 0.5864 - accuracy: 0.9062\n",
      "Epoch 79/80\n",
      "1/1 [==============================] - 0s 6ms/step - loss: 0.5783 - accuracy: 0.9062\n",
      "Epoch 80/80\n",
      "1/1 [==============================] - 0s 6ms/step - loss: 0.5703 - accuracy: 0.9062\n",
      "1/1 [==============================] - 0s 166ms/step - loss: 0.5940 - accuracy: 0.8750\n",
      "Test Loss: 0.593999981880188\n",
      "Test Accuracy: 0.875\n"
     ]
    }
   ],
   "source": [
    "import numpy as np\n",
    "from keras.models import Sequential\n",
    "from keras.layers import Dense\n",
    "from keras.utils import to_categorical\n",
    "\n",
    "num_classes = len(np.unique(np.concatenate((y_train, y_test))))\n",
    "#\n",
    "y_train_encoded = to_categorical(y_train, num_classes=num_classes)\n",
    "y_test_encoded = to_categorical(y_test, num_classes=num_classes)\n",
    "\n",
    "model = Sequential()\n",
    "model.add(Dense(64, activation='relu', input_shape=(6,)))\n",
    "model.add(Dense(64, activation='relu'))\n",
    "model.add(Dense(num_classes, activation='softmax'))\n",
    "model.compile(loss='categorical_crossentropy', optimizer='adam', metrics=['accuracy'])\n",
    "\n",
    "model.fit(X_train, y_train_encoded, epochs=80, batch_size=32)\n",
    "\n",
    "loss, accuracy = model.evaluate(X_test, y_test_encoded)\n",
    "print(\"Test Loss:\", loss)\n",
    "print(\"Test Accuracy:\", accuracy)"
   ],
   "metadata": {
    "collapsed": false
   }
  }
 ],
 "metadata": {
  "kernelspec": {
   "display_name": "Python 3",
   "language": "python",
   "name": "python3"
  },
  "language_info": {
   "codemirror_mode": {
    "name": "ipython",
    "version": 2
   },
   "file_extension": ".py",
   "mimetype": "text/x-python",
   "name": "python",
   "nbconvert_exporter": "python",
   "pygments_lexer": "ipython2",
   "version": "2.7.6"
  }
 },
 "nbformat": 4,
 "nbformat_minor": 0
}
